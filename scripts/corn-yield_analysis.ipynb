{
 "cells": [
  {
   "cell_type": "code",
   "execution_count": null,
   "id": "1f83940d-4cc7-49b2-a063-89951be836c4",
   "metadata": {},
   "outputs": [],
   "source": [
    "import pandas as pd\n",
    "import xarray as xr\n",
    "\n",
    "data_filepath = \"../data/corn-yields_1900-1922.csv\""
   ]
  },
  {
   "cell_type": "code",
   "execution_count": null,
   "id": "0d3d2a58-e3c5-463d-b865-113e927f1efb",
   "metadata": {},
   "outputs": [],
   "source": [
    "def load_yield_data(yield_type):\n",
    "    \"\"\"Function to load corn yield data.\n",
    "    'yield_type' is a string, one of {\"total\", \"irrigated\", \"non-irrigated\"}.\n",
    "    Returns a pandas dataframe\n",
    "    \"\"\"\n",
    "\n",
    "    ## First, parse user input\n",
    "    if yield_type == \"total\":\n",
    "        data_item = \"CORN, GRAIN - YIELD, MEASURED IN BU / ACRE\"\n",
    "        \n",
    "    elif yield_type == \"irrigated\":\n",
    "        data_item = \"CORN, GRAIN, IRRIGATED - YIELD, MEASURED IN BU / ACRE\"\n",
    "\n",
    "    elif yield_type == \"non-irrigated\":\n",
    "        data_item = \"CORN, GRAIN, NON-IRRIGATED - YIELD, MEASURED IN BU / ACRE\"\n",
    "\n",
    "    else:\n",
    "        print(\"Not a valid yield_type.\\n\")\n",
    "\n",
    "    ## Open raw file\n",
    "    yields = pd.read_csv(data_filepath)\n",
    "\n",
    "    ## Get correct yield type\n",
    "    yields = yields.loc[yields[\"Data Item\"] == data_item]\n",
    "\n",
    "    ## Remove forecast entries\n",
    "    yields = yields.loc[yields[\"Period\"] == \"YEAR\"]\n",
    "\n",
    "    ## Get subset of columns\n",
    "    yields = yields.loc[:,[\"Year\", \"State\", \"Value\"]]\n",
    "\n",
    "    ## Set the index as combination of state and year\n",
    "    yields = yields.set_index([\"State\", \"Year\"])\n",
    "\n",
    "    ## Convert to xarray\n",
    "    yields = yields.to_xarray()[\"Value\"].rename(\"Yield\")\n",
    "    yields = yields.assign_attrs({\"units\" : \"bushels/acre\"})\n",
    "\n",
    "    return yields\n",
    "    "
   ]
  },
  {
   "cell_type": "markdown",
   "id": "97a014b1-d95f-4477-a5cb-caa6d3f92059",
   "metadata": {},
   "source": [
    "#### Example of loading data"
   ]
  },
  {
   "cell_type": "code",
   "execution_count": null,
   "id": "55111772-b630-43e0-84bc-58bbf6fb994b",
   "metadata": {},
   "outputs": [],
   "source": [
    "yields_total = load_yield_data(yield_type=\"total\")"
   ]
  },
  {
   "cell_type": "markdown",
   "id": "06640c99-8860-4188-9745-b3f2ca2981d4",
   "metadata": {},
   "source": [
    "#### Print out yields for iowa"
   ]
  },
  {
   "cell_type": "code",
   "execution_count": null,
   "id": "1ae04276-1009-457c-aef9-df24c19ff182",
   "metadata": {},
   "outputs": [],
   "source": [
    "print(yields_total.sel(State=\"IOWA\"))"
   ]
  },
  {
   "cell_type": "markdown",
   "id": "6314fb51-7a18-46bc-a800-e0d70fc9be49",
   "metadata": {},
   "source": [
    "#### Print out yields for 2022"
   ]
  },
  {
   "cell_type": "code",
   "execution_count": null,
   "id": "7637cdc7-b2d9-4099-afbf-076a40b3d54b",
   "metadata": {},
   "outputs": [],
   "source": [
    "print(yields_total.sel(Year=2022))"
   ]
  }
 ],
 "metadata": {
  "kernelspec": {
   "display_name": "Python 3 (ipykernel)",
   "language": "python",
   "name": "python3"
  },
  "language_info": {
   "codemirror_mode": {
    "name": "ipython",
    "version": 3
   },
   "file_extension": ".py",
   "mimetype": "text/x-python",
   "name": "python",
   "nbconvert_exporter": "python",
   "pygments_lexer": "ipython3",
   "version": "3.11.3"
  }
 },
 "nbformat": 4,
 "nbformat_minor": 5
}
